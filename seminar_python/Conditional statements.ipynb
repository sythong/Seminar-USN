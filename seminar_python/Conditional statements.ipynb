{
 "cells": [
  {
   "cell_type": "markdown",
   "metadata": {},
   "source": [
    "# Conditional statements\n",
    "\n",
    "In this notebook we will see examples of conditional statements:"
   ]
  },
  {
   "cell_type": "markdown",
   "metadata": {},
   "source": [
    "## if / else\n",
    "\n",
    "`\n",
    "if <expr>:\n",
    "    <statement>\n",
    "    <statement>\n",
    "    ...\n",
    "    <statement>\n",
    "else:\n",
    "    <statement>\n",
    "    ...\n",
    "    <statement>\n",
    "<following_statement>\n",
    "`"
   ]
  },
  {
   "cell_type": "code",
   "execution_count": 24,
   "metadata": {},
   "outputs": [
    {
     "name": "stdout",
     "output_type": "stream",
     "text": [
      "Between conditions\n",
      "Inside condition 2\n",
      "End of conditions\n"
     ]
    }
   ],
   "source": [
    "if 10 > 20:                          \n",
    "    print('Inside condition 1')   \n",
    "\n",
    "print('Between conditions')\n",
    "\n",
    "if 10 < 20:                      \n",
    "    print('Inside condition 2')   \n",
    "\n",
    "print('End of conditions')  "
   ]
  },
  {
   "cell_type": "code",
   "execution_count": 25,
   "metadata": {},
   "outputs": [
    {
     "name": "stdout",
     "output_type": "stream",
     "text": [
      "x is larger than 50\n"
     ]
    }
   ],
   "source": [
    "x = 130\n",
    "\n",
    "if x <= 50:\n",
    "    print('x is smaller or equal to 50')\n",
    "else:\n",
    "    print('x is larger than 50')"
   ]
  },
  {
   "cell_type": "markdown",
   "metadata": {},
   "source": [
    "## Pass keywork"
   ]
  },
  {
   "cell_type": "code",
   "execution_count": 26,
   "metadata": {},
   "outputs": [
    {
     "name": "stdout",
     "output_type": "stream",
     "text": [
      "foo\n"
     ]
    }
   ],
   "source": [
    "if True:\n",
    "    pass # Needed when you have nothing\n",
    "\n",
    "print('foo')"
   ]
  },
  {
   "cell_type": "markdown",
   "metadata": {},
   "source": [
    "## if / else / elif\n",
    "\n",
    "`\n",
    "if <expr>:\n",
    "    <statement(s)>\n",
    "elif <expr>:\n",
    "    <statement(s)>\n",
    "elif <expr>:\n",
    "    <statement(s)>\n",
    "    ...\n",
    "else:\n",
    "    <statement(s)>\n",
    "`"
   ]
  },
  {
   "cell_type": "code",
   "execution_count": 27,
   "metadata": {},
   "outputs": [
    {
     "name": "stdout",
     "output_type": "stream",
     "text": [
      "Hello Joe\n"
     ]
    }
   ],
   "source": [
    "name = 'Joe'\n",
    "if name == 'Fred':\n",
    "    print('Hello Fred')\n",
    "elif name == 'Xander':\n",
    "    print('Hello Xander')\n",
    "elif name == 'Joe':\n",
    "    print('Hello Joe')\n",
    "elif name == 'Arnold':\n",
    "    print('Hello Arnold')\n",
    "else:\n",
    "    print(\"I don't know who you are.\")"
   ]
  },
  {
   "cell_type": "markdown",
   "metadata": {},
   "source": [
    "## One line if\n",
    "\n",
    "`\n",
    "if <expr>: <statement_1>; <statement_2>; ...; <statement_n>\n",
    "`"
   ]
  },
  {
   "cell_type": "code",
   "execution_count": 28,
   "metadata": {},
   "outputs": [
    {
     "name": "stdout",
     "output_type": "stream",
     "text": [
      "A\n",
      "E\n",
      "I\n",
      "O\n",
      "U\n"
     ]
    }
   ],
   "source": [
    "x = 1\n",
    "if x == 1: print('A'); print('E'); print('I'); print('O'); print('U')\n",
    "elif x == 2: print('B'); print('C'); print('D')\n",
    "else: print('whatever'); print('blabla')\n",
    "    \n",
    "\n",
    "#OR     \n",
    "#x = 1\n",
    "#if x == 1: \n",
    "#    print('A'); \n",
    "#    print('E'); \n",
    "#    print('I'); \n",
    "#    print('O'); \n",
    "#    print('U')\n",
    "#elif x == 2: \n",
    "#    print('B'); \n",
    "#    print('C'); \n",
    "#    print('D')\n",
    "#else: \n",
    "#    print('whatever'); \n",
    "#    print('blabla')"
   ]
  },
  {
   "cell_type": "markdown",
   "metadata": {},
   "source": [
    "## More conditional expressions\n",
    "\n",
    "`\n",
    "<expr1> if <conditional_expr> else <expr2>\n",
    "`"
   ]
  },
  {
   "cell_type": "code",
   "execution_count": 29,
   "metadata": {},
   "outputs": [
    {
     "name": "stdout",
     "output_type": "stream",
     "text": [
      "minor\n",
      "13\n"
     ]
    }
   ],
   "source": [
    "# example 1\n",
    "age = 12\n",
    "s = 'minor' if age < 21 else 'adult'\n",
    "print(s)\n",
    "\n",
    "# example 2\n",
    "#raining = True\n",
    "#placeToGo = 'beach' if not raining else 'library'\n",
    "#print(\"Let's go to the\")\n",
    "#print(placeToGo)\n",
    "\n",
    "# example 3\n",
    "# x = y = 40 # ex 3.1\n",
    "x = 10 # ex 3.2\n",
    "y = 5 # ex 3.2\n",
    "z = 1 + (x if x > y else y) + 2\n",
    "print(z)"
   ]
  },
  {
   "cell_type": "code",
   "execution_count": null,
   "metadata": {},
   "outputs": [],
   "source": []
  }
 ],
 "metadata": {
  "kernelspec": {
   "display_name": "Python 3",
   "language": "python",
   "name": "python3"
  },
  "language_info": {
   "codemirror_mode": {
    "name": "ipython",
    "version": 3
   },
   "file_extension": ".py",
   "mimetype": "text/x-python",
   "name": "python",
   "nbconvert_exporter": "python",
   "pygments_lexer": "ipython3",
   "version": "3.7.0"
  }
 },
 "nbformat": 4,
 "nbformat_minor": 2
}
