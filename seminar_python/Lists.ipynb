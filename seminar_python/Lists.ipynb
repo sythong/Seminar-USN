{
 "cells": [
  {
   "cell_type": "markdown",
   "metadata": {},
   "source": [
    "# Lists\n",
    "\n",
    "In this notebook we will study the structure of **lists**:"
   ]
  },
  {
   "cell_type": "code",
   "execution_count": 3,
   "metadata": {},
   "outputs": [
    {
     "name": "stdout",
     "output_type": "stream",
     "text": [
      "7\n",
      "2\n",
      "3\n",
      "4\n",
      "5\n",
      "6\n",
      "7\n",
      "8\n"
     ]
    }
   ],
   "source": [
    "my_list = [2,3,4,5,6,7,8]\n",
    "print(len(my_list))\n",
    "for element in my_list:\n",
    "    print(element)"
   ]
  },
  {
   "cell_type": "code",
   "execution_count": 6,
   "metadata": {},
   "outputs": [
    {
     "name": "stdout",
     "output_type": "stream",
     "text": [
      "0: 2\n",
      "1: 9\n",
      "2: 13\n",
      "3: 5\n",
      "4: 3\n",
      "5: 7\n",
      "6: 1\n"
     ]
    }
   ],
   "source": [
    "my_list = [2,9,13,5,3,7,1]\n",
    "\n",
    "for i in range(len(my_list)):\n",
    "    print(\"%d: %d\" % (i, my_list[i]))"
   ]
  },
  {
   "cell_type": "code",
   "execution_count": 1,
   "metadata": {},
   "outputs": [
    {
     "name": "stdout",
     "output_type": "stream",
     "text": [
      "Oslo is a city in Norway\n",
      "Rio de Janeiro is not a city in Norway\n"
     ]
    }
   ],
   "source": [
    "cities = [\"Oslo\", \"Kongsberg\", \"Bergen\", \"Stavanger\", \"Trondheim\",\"Drammen\"]\n",
    "if \"Oslo\" in cities:\n",
    "  print(\"Oslo is a city in Norway\")\n",
    "if \"Rio de Janeiro\" not in cities:\n",
    "  print(\"Rio de Janeiro is not a city in Norway\")"
   ]
  },
  {
   "cell_type": "code",
   "execution_count": 8,
   "metadata": {},
   "outputs": [
    {
     "name": "stdout",
     "output_type": "stream",
     "text": [
      "Type something:a\n",
      "Type something:b\n",
      "Type something:c\n",
      "Type something:d\n",
      "Type something:e\n",
      "Type something:f\n",
      "Type something:exit\n",
      "['a', 'b', 'c', 'd', 'e', 'f', 'exit']\n"
     ]
    }
   ],
   "source": [
    "# Append items to list\n",
    "my_list = []\n",
    "item = None\n",
    "while item != \"exit\":\n",
    "    item = input(\"Type something:\")\n",
    "    my_list.append(item)\n",
    "\n",
    "print(my_list)"
   ]
  },
  {
   "cell_type": "code",
   "execution_count": 11,
   "metadata": {},
   "outputs": [
    {
     "name": "stdout",
     "output_type": "stream",
     "text": [
      "Type something:a\n",
      "Type something:b\n",
      "Type something:c\n",
      "Type something:exit\n"
     ]
    },
    {
     "ename": "ValueError",
     "evalue": "list.remove(x): x not in list",
     "output_type": "error",
     "traceback": [
      "\u001b[1;31m---------------------------------------------------------------------------\u001b[0m",
      "\u001b[1;31mValueError\u001b[0m                                Traceback (most recent call last)",
      "\u001b[1;32m<ipython-input-11-4b9777cc48e7>\u001b[0m in \u001b[0;36m<module>\u001b[1;34m\u001b[0m\n\u001b[0;32m      7\u001b[0m \u001b[1;33m\u001b[0m\u001b[0m\n\u001b[0;32m      8\u001b[0m \u001b[0mmy_list\u001b[0m\u001b[1;33m.\u001b[0m\u001b[0mremove\u001b[0m\u001b[1;33m(\u001b[0m\u001b[1;34m\"exit\"\u001b[0m\u001b[1;33m)\u001b[0m\u001b[1;33m\u001b[0m\u001b[0m\n\u001b[1;32m----> 9\u001b[1;33m \u001b[0mmy_list\u001b[0m\u001b[1;33m.\u001b[0m\u001b[0mremove\u001b[0m\u001b[1;33m(\u001b[0m\u001b[1;34m\"aaaaa\"\u001b[0m\u001b[1;33m)\u001b[0m \u001b[1;31m#you can only remove items that are in the list\u001b[0m\u001b[1;33m\u001b[0m\u001b[0m\n\u001b[0m\u001b[0;32m     10\u001b[0m \u001b[0mprint\u001b[0m\u001b[1;33m(\u001b[0m\u001b[0mmy_list\u001b[0m\u001b[1;33m)\u001b[0m\u001b[1;33m\u001b[0m\u001b[0m\n",
      "\u001b[1;31mValueError\u001b[0m: list.remove(x): x not in list"
     ]
    }
   ],
   "source": [
    "# Append and remove items to list\n",
    "my_list = []\n",
    "item = None\n",
    "while item != \"exit\":\n",
    "    item = input(\"Type something:\")\n",
    "    my_list.append(item)\n",
    "\n",
    "my_list.remove(\"exit\")\n",
    "#my_list.remove(\"aaaaa\") #you can only remove items that are in the list\n",
    "print(my_list)"
   ]
  },
  {
   "cell_type": "code",
   "execution_count": 17,
   "metadata": {},
   "outputs": [
    {
     "name": "stdout",
     "output_type": "stream",
     "text": [
      "['lemon', 'apple', 'banana', 'avocado', 'cherry', 'grape', 'orange', 'papaya', 'pear']\n"
     ]
    }
   ],
   "source": [
    "my_list = [\"apple\", \"banana\", \"cherry\", \"grape\", \"papaya\"]\n",
    "my_list.insert(0, \"lemon\")\n",
    "#my_list.insert(3, \"avocado\")\n",
    "#my_list.insert(-1, \"orange\") #-1 = penultimate = second to the last\n",
    "#my_list.insert(99, \"pear\") #when not in the array, add it in the last position\n",
    "print(my_list)"
   ]
  },
  {
   "cell_type": "code",
   "execution_count": 26,
   "metadata": {},
   "outputs": [
    {
     "name": "stdout",
     "output_type": "stream",
     "text": [
      "['apple', 'banana', 'grape', 'papaya']\n"
     ]
    }
   ],
   "source": [
    "#The pop() method removes the specified index, (or the last item if index is not specified):\n",
    "my_list = [\"apple\", \"banana\", \"cherry\", \"grape\", \"papaya\"]\n",
    "my_list.pop()\n",
    "#my_list.pop()\n",
    "#my_list.pop(2) #specify the index\n",
    "#my_list.pop()\n",
    "#my_list.pop()\n",
    "#my_list.pop()# error: cannot pop the item of an empty list\n",
    "print(my_list)"
   ]
  },
  {
   "cell_type": "code",
   "execution_count": 30,
   "metadata": {},
   "outputs": [
    {
     "name": "stdout",
     "output_type": "stream",
     "text": [
      "['apple', 'banana', 'cherry', 'papaya']\n"
     ]
    }
   ],
   "source": [
    "#The del keyword removes the specified index:\n",
    "my_list = [\"apple\", \"banana\", \"cherry\", \"grape\", \"papaya\"]\n",
    "del my_list[3]\n",
    "print(my_list)\n",
    "\n",
    "#The del keyword can also delete the list completely:\n",
    "#del my_list\n",
    "#print(my_list) #this will cause an error because \"thislist\" no longer exists."
   ]
  },
  {
   "cell_type": "code",
   "execution_count": 31,
   "metadata": {},
   "outputs": [
    {
     "name": "stdout",
     "output_type": "stream",
     "text": [
      "[]\n"
     ]
    }
   ],
   "source": [
    "#The clear() method empties the list:\n",
    "my_list = [\"apple\", \"banana\", \"cherry\", \"grape\", \"papaya\"]\n",
    "my_list.clear()\n",
    "print(my_list)"
   ]
  },
  {
   "cell_type": "code",
   "execution_count": 36,
   "metadata": {},
   "outputs": [
    {
     "name": "stdout",
     "output_type": "stream",
     "text": [
      "2\n",
      "1\n",
      "1\n"
     ]
    }
   ],
   "source": [
    "#count()\tReturns the number of elements with the specified value\n",
    "letters = [\"a\", \"b\", \"c\", \"d\", \"e\",\"a\",\"f\",\"g\"]\n",
    "print(letters.count(\"a\"))\n",
    "print(letters.count(\"b\"))\n",
    "print(letters.count(\"c\"))"
   ]
  },
  {
   "cell_type": "code",
   "execution_count": 40,
   "metadata": {},
   "outputs": [
    {
     "name": "stdout",
     "output_type": "stream",
     "text": [
      "['apple', 'banana', 'cherry', 'grape', 'papaya']\n",
      "['papaya', 'grape', 'cherry', 'banana', 'apple']\n"
     ]
    }
   ],
   "source": [
    "#sort()\tSorts the list\n",
    "my_list = [\"grape\", \"cherry\", \"apple\", \"banana\", \"papaya\"]\n",
    "my_list.sort()\n",
    "print(my_list)\n",
    "\n",
    "#reverse()\tReverses the order of the list\n",
    "my_list.reverse()\n",
    "print(my_list)"
   ]
  },
  {
   "cell_type": "code",
   "execution_count": 44,
   "metadata": {},
   "outputs": [
    {
     "name": "stdout",
     "output_type": "stream",
     "text": [
      "Extended List :  [123, 'xyz', 'zara', 'abc', 123, 2018, 'krona']\n"
     ]
    }
   ],
   "source": [
    "list_a = [123, 'xyz', 'zara', 'abc', 123];\n",
    "list_b = [2018, 'krona'];\n",
    "list_a.extend(list_b)\n",
    "print(\"Extended List : \", list_a)\n"
   ]
  },
  {
   "cell_type": "code",
   "execution_count": null,
   "metadata": {},
   "outputs": [],
   "source": []
  }
 ],
 "metadata": {
  "kernelspec": {
   "display_name": "Python [default]",
   "language": "python",
   "name": "python3"
  },
  "language_info": {
   "codemirror_mode": {
    "name": "ipython",
    "version": 3
   },
   "file_extension": ".py",
   "mimetype": "text/x-python",
   "name": "python",
   "nbconvert_exporter": "python",
   "pygments_lexer": "ipython3",
   "version": "3.7.0"
  }
 },
 "nbformat": 4,
 "nbformat_minor": 2
}
