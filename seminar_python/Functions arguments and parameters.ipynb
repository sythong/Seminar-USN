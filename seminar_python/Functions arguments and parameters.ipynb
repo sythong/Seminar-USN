{
 "cells": [
  {
   "cell_type": "markdown",
   "metadata": {},
   "source": [
    "# Functions, Arguments and Parameters\n",
    "\n",
    "In this notebook we will see the basic of functions"
   ]
  },
  {
   "cell_type": "code",
   "execution_count": 1,
   "metadata": {},
   "outputs": [],
   "source": [
    "def my_function():\n",
    "  print(\"Hello from a function\")"
   ]
  },
  {
   "cell_type": "code",
   "execution_count": 2,
   "metadata": {},
   "outputs": [
    {
     "name": "stdout",
     "output_type": "stream",
     "text": [
      "Hello from a function\n"
     ]
    }
   ],
   "source": [
    "my_function()"
   ]
  },
  {
   "cell_type": "code",
   "execution_count": 3,
   "metadata": {},
   "outputs": [
    {
     "name": "stdout",
     "output_type": "stream",
     "text": [
      "Hello Tobias\n",
      "Hello Rafael\n"
     ]
    }
   ],
   "source": [
    "# function with parameter\n",
    "def my_function(name):\n",
    "  print(\"Hello %s\" % name)\n",
    "\n",
    "my_function(\"Tobias\")\n",
    "my_function(\"Rafael\")"
   ]
  },
  {
   "cell_type": "code",
   "execution_count": 13,
   "metadata": {},
   "outputs": [
    {
     "name": "stdout",
     "output_type": "stream",
     "text": [
      "Result = 4.400000\n",
      "Result = 4.40\n"
     ]
    }
   ],
   "source": [
    "# Function with parameters and return\n",
    "def sum(numberA, numberB):\n",
    "    numberC = numberA + numberB\n",
    "    return numberC\n",
    "\n",
    "a = 1.1\n",
    "b = 3.3\n",
    "result = sum(a,b)\n",
    "print(\"Result = %f\" % result)\n",
    "print(\"Result = %.2f\" % result)"
   ]
  },
  {
   "cell_type": "code",
   "execution_count": 90,
   "metadata": {},
   "outputs": [
    {
     "name": "stdout",
     "output_type": "stream",
     "text": [
      "Result = 25.000000\n"
     ]
    }
   ],
   "source": [
    "# Function with parameters and return\n",
    "def subtract(numberA, numberB):\n",
    "    numberC = numberA - numberB\n",
    "    return numberC\n",
    "\n",
    "result = subtract(numberB=10,numberA=35)\n",
    "print(\"Result = %f\" % result)"
   ]
  },
  {
   "cell_type": "code",
   "execution_count": 91,
   "metadata": {},
   "outputs": [
    {
     "name": "stdout",
     "output_type": "stream",
     "text": [
      "Prime 1\n",
      "Prime 2\n",
      "Prime 3\n",
      "Prime 5\n",
      "Prime 7\n",
      "Prime 11\n",
      "Prime 13\n",
      "Prime 17\n",
      "Prime 19\n",
      "Prime 23\n",
      "Prime 29\n",
      "Prime 31\n",
      "Prime 37\n",
      "Prime 41\n",
      "Prime 43\n",
      "Prime 47\n",
      "Prime 53\n"
     ]
    }
   ],
   "source": [
    "# Defining a prime function\n",
    "def isPrime(number):\n",
    "    isPrime = True\n",
    "    for i in range(number-1, 1, -1):\n",
    "        #print(\"i=%d\"%i)\n",
    "        if number%i == 0:\n",
    "            isPrime = False\n",
    "            break\n",
    "    return isPrime\n",
    "\n",
    "# Create prime numbers\n",
    "def generate_primes(max):\n",
    "    for i in range(1,max):\n",
    "        if isPrime(i):\n",
    "            print(\"Prime %d\" % i)\n",
    "\n",
    "generate_primes(55)"
   ]
  },
  {
   "cell_type": "code",
   "execution_count": null,
   "metadata": {},
   "outputs": [],
   "source": []
  }
 ],
 "metadata": {
  "kernelspec": {
   "display_name": "Python 3",
   "language": "python",
   "name": "python3"
  },
  "language_info": {
   "codemirror_mode": {
    "name": "ipython",
    "version": 3
   },
   "file_extension": ".py",
   "mimetype": "text/x-python",
   "name": "python",
   "nbconvert_exporter": "python",
   "pygments_lexer": "ipython3",
   "version": "3.7.0"
  }
 },
 "nbformat": 4,
 "nbformat_minor": 2
}
