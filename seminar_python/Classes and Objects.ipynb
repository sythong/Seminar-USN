{
 "cells": [
  {
   "cell_type": "code",
   "execution_count": 6,
   "metadata": {},
   "outputs": [],
   "source": [
    "# Defining a person\n",
    "class Person:\n",
    "    def __init__(self, name, age, salary=None):\n",
    "        self.name = name\n",
    "        self.age = age\n",
    "        self._salary = salary # Should not be seen\n",
    "        \n",
    "    def Speak(self):\n",
    "        print(\"%s is speaking bla bla bla\" % self.name)"
   ]
  },
  {
   "cell_type": "code",
   "execution_count": 9,
   "metadata": {},
   "outputs": [
    {
     "name": "stdout",
     "output_type": "stream",
     "text": [
      "John\n",
      "25\n",
      "John is speaking bla bla bla\n",
      "Peter\n",
      "53\n",
      "None\n",
      "Peter is speaking bla bla bla\n"
     ]
    }
   ],
   "source": [
    "# Create person 1\n",
    "p1 = Person(\"John\", 25)\n",
    "print(p1.name)\n",
    "print(p1.age)\n",
    "p1.Speak()\n",
    "\n",
    "# Create person 2\n",
    "p2 = Person(\"Peter\", 53)\n",
    "print(p2.name)\n",
    "print(p2.age)\n",
    "print(p2._salary) #shouldnt be used\n",
    "p2.Speak()\n"
   ]
  },
  {
   "cell_type": "code",
   "execution_count": 20,
   "metadata": {},
   "outputs": [],
   "source": [
    "# Creating a calculator\n",
    "\n",
    "# Defining a person\n",
    "class Calculator:\n",
    "    def __init__(self, firstNumber, secondNumber):\n",
    "        self.firstNumber = firstNumber\n",
    "        self.secondNumber = secondNumber\n",
    "        \n",
    "    def Add(self):\n",
    "        result = self.firstNumber+self.secondNumber\n",
    "        print(\"Add: %f\" % result)\n",
    "    def Subtract(self):\n",
    "        result = self.firstNumber-self.secondNumber\n",
    "        print(\"Subtract: %f\" % result)            \n",
    "    def Multiply(self):\n",
    "        result = self.firstNumber*self.secondNumber\n",
    "        print(\"Multiply: %f\" % result)\n",
    "    def Divide(self):\n",
    "        result = self.firstNumber/self.secondNumber\n",
    "        print(\"Divide: %f\" % result)"
   ]
  },
  {
   "cell_type": "code",
   "execution_count": 21,
   "metadata": {},
   "outputs": [
    {
     "name": "stdout",
     "output_type": "stream",
     "text": [
      "Add: 6.000000\n",
      "Subtract: -4.000000\n",
      "Multiply: 5.000000\n",
      "Divide: 0.200000\n"
     ]
    }
   ],
   "source": [
    "myCalculator = Calculator(1,5)\n",
    "myCalculator.Add()\n",
    "myCalculator.Subtract()\n",
    "myCalculator.Multiply()\n",
    "myCalculator.Divide()\n"
   ]
  },
  {
   "cell_type": "code",
   "execution_count": null,
   "metadata": {},
   "outputs": [],
   "source": []
  }
 ],
 "metadata": {
  "kernelspec": {
   "display_name": "Python [conda env:seminarpython]",
   "language": "python",
   "name": "conda-env-seminarpython-py"
  },
  "language_info": {
   "codemirror_mode": {
    "name": "ipython",
    "version": 3
   },
   "file_extension": ".py",
   "mimetype": "text/x-python",
   "name": "python",
   "nbconvert_exporter": "python",
   "pygments_lexer": "ipython3",
   "version": "3.7.0"
  }
 },
 "nbformat": 4,
 "nbformat_minor": 2
}
