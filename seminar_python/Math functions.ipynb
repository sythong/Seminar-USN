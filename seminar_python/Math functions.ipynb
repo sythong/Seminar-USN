{
 "cells": [
  {
   "cell_type": "markdown",
   "metadata": {},
   "source": [
    "# Math functions\n",
    "\n",
    "In this notebook we will see basic math functions:"
   ]
  },
  {
   "cell_type": "code",
   "execution_count": 39,
   "metadata": {},
   "outputs": [],
   "source": [
    "import math"
   ]
  },
  {
   "cell_type": "code",
   "execution_count": 40,
   "metadata": {},
   "outputs": [
    {
     "name": "stdout",
     "output_type": "stream",
     "text": [
      "0.47712125471966244\n",
      "1.0986122886681098\n",
      "1.5849625007211563\n",
      "0.6826061944859854\n"
     ]
    }
   ],
   "source": [
    "# log of x in the base 10\n",
    "x = 3\n",
    "result = math.log10(x)\n",
    "print(result)\n",
    "\n",
    "# log of x in the base e => log neperian\n",
    "x = 3\n",
    "result = math.log(x)\n",
    "print(result)\n",
    "\n",
    "# log of x in the base 2\n",
    "x = 3\n",
    "result = math.log(x,2)\n",
    "print(result)\n",
    "\n",
    "# log of x in the base 5\n",
    "x = 3\n",
    "result = math.log(x,5)\n",
    "print(result)"
   ]
  },
  {
   "cell_type": "code",
   "execution_count": 41,
   "metadata": {},
   "outputs": [
    {
     "name": "stdout",
     "output_type": "stream",
     "text": [
      "1.0\n",
      "1.2246467991473532e-16\n",
      "6.123233995736766e-17\n",
      "-1.0\n",
      "1.633123935319537e+16\n",
      "-1.2246467991473532e-16\n"
     ]
    }
   ],
   "source": [
    "# sin, cos, tan (in radians only)\n",
    "pi = math.pi\n",
    "\n",
    "# sin\n",
    "print(math.sin(pi/2))\n",
    "print(math.sin(pi)) # aprox. 0\n",
    "\n",
    "# cos\n",
    "print(math.cos(pi/2)) # aprox. 0\n",
    "print(math.cos(pi)) \n",
    "\n",
    "# tan\n",
    "print(math.tan(pi/2)) # aprox. inf\n",
    "print(math.tan(pi)) # aprox. 0"
   ]
  },
  {
   "cell_type": "code",
   "execution_count": 42,
   "metadata": {},
   "outputs": [
    {
     "name": "stdout",
     "output_type": "stream",
     "text": [
      "0.0\n",
      "1.5707963267948966\n",
      "1.5707963267948966\n",
      "1.5707963267948966\n"
     ]
    }
   ],
   "source": [
    "#math.acos(x) -> Return the arc cosine of x, in radians.\n",
    "print(math.acos(1))\n",
    "\n",
    "#math.asin(x) -> Return the arc sine of x, in radians.\n",
    "print(math.asin(1)) #=> pi/2\n",
    "print(math.pi/2)\n",
    "\n",
    "#math.atan(x) -> Return the arc tangent of x, in radians.\n",
    "print(math.atan(math.inf)) #=> pi/2"
   ]
  },
  {
   "cell_type": "code",
   "execution_count": 43,
   "metadata": {},
   "outputs": [
    {
     "data": {
      "text/plain": [
       "9.0"
      ]
     },
     "execution_count": 43,
     "metadata": {},
     "output_type": "execute_result"
    }
   ],
   "source": [
    "# square roots\n",
    "math.sqrt(81)"
   ]
  },
  {
   "cell_type": "code",
   "execution_count": 44,
   "metadata": {},
   "outputs": [
    {
     "name": "stdout",
     "output_type": "stream",
     "text": [
      "180.0\n",
      "3.141592653589793\n"
     ]
    }
   ],
   "source": [
    "#math.degrees(x) -> Convert angle x from radians to degrees.\n",
    "print(math.degrees(pi))\n",
    "\n",
    "#math.radians(x) -> Convert angle x from degrees to radians.\n",
    "print(math.radians(180))"
   ]
  },
  {
   "cell_type": "code",
   "execution_count": null,
   "metadata": {},
   "outputs": [],
   "source": []
  }
 ],
 "metadata": {
  "kernelspec": {
   "display_name": "Python 3",
   "language": "python",
   "name": "python3"
  },
  "language_info": {
   "codemirror_mode": {
    "name": "ipython",
    "version": 3
   },
   "file_extension": ".py",
   "mimetype": "text/x-python",
   "name": "python",
   "nbconvert_exporter": "python",
   "pygments_lexer": "ipython3",
   "version": "3.7.0"
  }
 },
 "nbformat": 4,
 "nbformat_minor": 2
}
