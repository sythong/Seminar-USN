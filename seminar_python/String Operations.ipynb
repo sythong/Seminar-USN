{
 "cells": [
  {
   "cell_type": "markdown",
   "metadata": {},
   "source": [
    "# String Operations\n",
    "\n",
    "In this notebook we will study basic string operations:"
   ]
  },
  {
   "cell_type": "code",
   "execution_count": 11,
   "metadata": {},
   "outputs": [
    {
     "name": "stdout",
     "output_type": "stream",
     "text": [
      "UniversityofSoutheastNorwary\n",
      "UniversitofSoutheastNorwar\n"
     ]
    }
   ],
   "source": [
    "a = 'University'\n",
    "b = 'of'\n",
    "c = 'Southeast'\n",
    "d = 'Norwary'\n",
    "result = a+b+c+d\n",
    "print(result)\n",
    "\n",
    "# error: You cannot subtract\n",
    "#result = result - a\n",
    "\n",
    "result = result.replace('y','')\n",
    "print(result)\n",
    "\n",
    "\n"
   ]
  },
  {
   "cell_type": "code",
   "execution_count": 7,
   "metadata": {},
   "outputs": [
    {
     "data": {
      "text/plain": [
       "'v'"
      ]
     },
     "execution_count": 7,
     "metadata": {},
     "output_type": "execute_result"
    }
   ],
   "source": [
    "len(result)\n",
    "result[3]"
   ]
  },
  {
   "cell_type": "code",
   "execution_count": 19,
   "metadata": {},
   "outputs": [
    {
     "name": "stdout",
     "output_type": "stream",
     "text": [
      "   University of Southeast Norway   \n",
      "University of Southeast Norway\n",
      "University of Southeast Norway   \n",
      "   University of Southeast Norway\n"
     ]
    }
   ],
   "source": [
    "# Trimming\n",
    "\n",
    "#strip – removes spaces from left and right of the string and returns the copy of the string.\n",
    "a = '   University of Southeast Norway   '\n",
    "print(a)\n",
    "b = a.strip()\n",
    "print(b)\n",
    "\n",
    "#lstrip – returns the string after removing leading whitespaces.\n",
    "c = a.lstrip()\n",
    "print(c)\n",
    "\n",
    "#rstrip – returns a string after removing the trailing whitespace – the space towards the right of the string.\n",
    "d = a.rstrip()\n",
    "print(d)"
   ]
  },
  {
   "cell_type": "code",
   "execution_count": null,
   "metadata": {},
   "outputs": [],
   "source": []
  }
 ],
 "metadata": {
  "kernelspec": {
   "display_name": "Python [default]",
   "language": "python",
   "name": "python3"
  },
  "language_info": {
   "codemirror_mode": {
    "name": "ipython",
    "version": 3
   },
   "file_extension": ".py",
   "mimetype": "text/x-python",
   "name": "python",
   "nbconvert_exporter": "python",
   "pygments_lexer": "ipython3",
   "version": "3.7.0"
  }
 },
 "nbformat": 4,
 "nbformat_minor": 2
}
