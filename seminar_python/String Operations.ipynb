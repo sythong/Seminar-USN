{
 "cells": [
  {
   "cell_type": "markdown",
   "metadata": {},
   "source": [
    "# String Operations\n",
    "\n",
    "In this notebook we will study basic string operations:"
   ]
  },
  {
   "cell_type": "code",
   "execution_count": 10,
   "metadata": {},
   "outputs": [
    {
     "name": "stdout",
     "output_type": "stream",
     "text": [
      "UniversityofSoutheastNorwary\n",
      "UniversitofSoutheastNorwar\n"
     ]
    }
   ],
   "source": [
    "a = 'University'\n",
    "b = 'of'\n",
    "c = 'Southeast'\n",
    "d = 'Norwary'\n",
    "result = a+b+c+d\n",
    "print(result)\n",
    "\n",
    "# error: You cannot subtract\n",
    "#result = result - a\n",
    "\n",
    "result = result.replace('y','')\n",
    "print(result)"
   ]
  },
  {
   "cell_type": "code",
   "execution_count": 7,
   "metadata": {},
   "outputs": [
    {
     "data": {
      "text/plain": [
       "'v'"
      ]
     },
     "execution_count": 7,
     "metadata": {},
     "output_type": "execute_result"
    }
   ],
   "source": [
    "len(result)\n",
    "result[3]"
   ]
  },
  {
   "cell_type": "code",
   "execution_count": 19,
   "metadata": {},
   "outputs": [
    {
     "name": "stdout",
     "output_type": "stream",
     "text": [
      "   University of Southeast Norway   \n",
      "University of Southeast Norway\n",
      "University of Southeast Norway   \n",
      "   University of Southeast Norway\n"
     ]
    }
   ],
   "source": [
    "# Trimming\n",
    "\n",
    "#strip – removes spaces from left and right of the string and returns the copy of the string.\n",
    "a = '   University of Southeast Norway   '\n",
    "print(a)\n",
    "b = a.strip()\n",
    "print(b)\n",
    "\n",
    "#lstrip – returns the string after removing leading whitespaces.\n",
    "c = a.lstrip()\n",
    "print(c)\n",
    "\n",
    "#rstrip – returns a string after removing the trailing whitespace – the space towards the right of the string.\n",
    "d = a.rstrip()\n",
    "print(d)"
   ]
  },
  {
   "cell_type": "code",
   "execution_count": 3,
   "metadata": {},
   "outputs": [
    {
     "name": "stdout",
     "output_type": "stream",
     "text": [
      "M\n",
      "y\n",
      " \n",
      "n\n",
      "a\n",
      "m\n",
      "e\n",
      " \n",
      "i\n",
      "s\n",
      " \n",
      "R\n",
      "a\n",
      "f\n",
      "a\n",
      "e\n",
      "l\n"
     ]
    }
   ],
   "source": [
    "sentence = \"My name is Rafael\"\n",
    "for i in range(len(sentence)):\n",
    "    print(sentence[i])"
   ]
  },
  {
   "cell_type": "code",
   "execution_count": 5,
   "metadata": {},
   "outputs": [
    {
     "name": "stdout",
     "output_type": "stream",
     "text": [
      "This is number 0\n",
      "This is number 1\n",
      "This is number 2\n",
      "This is number 3\n",
      "This is number 4\n"
     ]
    }
   ],
   "source": [
    "for i in range(5):\n",
    "    print(\"This is number %d\" % i)"
   ]
  },
  {
   "cell_type": "code",
   "execution_count": 9,
   "metadata": {},
   "outputs": [
    {
     "name": "stdout",
     "output_type": "stream",
     "text": [
      "i = 0\tletter = M\n",
      "i = 1\tletter = y\n",
      "i = 2\tletter =  \n",
      "i = 3\tletter = n\n",
      "i = 4\tletter = a\n",
      "i = 5\tletter = m\n",
      "i = 6\tletter = e\n",
      "i = 7\tletter =  \n",
      "i = 8\tletter = i\n",
      "i = 9\tletter = s\n",
      "i = 10\tletter =  \n",
      "i = 11\tletter = R\n",
      "i = 12\tletter = a\n",
      "i = 13\tletter = f\n",
      "i = 14\tletter = a\n",
      "i = 15\tletter = e\n",
      "i = 16\tletter = l\n"
     ]
    }
   ],
   "source": [
    "#sentence = \"My name is Rafael\"\n",
    "#for i in range(5):\n",
    "#    print(\"i = %d\" % i)\n",
    "#    print(\"letter = %s\" % sentence[i])\n",
    "    \n",
    "# Or\n",
    "sentence = \"My name is Rafael\"\n",
    "for i in range(len(sentence)):\n",
    "    print(\"i = %d\\tletter = %s\" % (i, sentence[i]))\n"
   ]
  },
  {
   "cell_type": "code",
   "execution_count": null,
   "metadata": {},
   "outputs": [],
   "source": []
  }
 ],
 "metadata": {
  "kernelspec": {
   "display_name": "Python 3",
   "language": "python",
   "name": "python3"
  },
  "language_info": {
   "codemirror_mode": {
    "name": "ipython",
    "version": 3
   },
   "file_extension": ".py",
   "mimetype": "text/x-python",
   "name": "python",
   "nbconvert_exporter": "python",
   "pygments_lexer": "ipython3",
   "version": "3.7.0"
  }
 },
 "nbformat": 4,
 "nbformat_minor": 2
}
