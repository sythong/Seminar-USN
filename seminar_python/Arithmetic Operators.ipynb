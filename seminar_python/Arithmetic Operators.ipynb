{
 "cells": [
  {
   "cell_type": "markdown",
   "metadata": {},
   "source": [
    "# Arithmetic Operators\n",
    "\n",
    "In this notebook we will see basic arithmetic operations:"
   ]
  },
  {
   "cell_type": "code",
   "execution_count": 34,
   "metadata": {},
   "outputs": [
    {
     "data": {
      "text/plain": [
       "4"
      ]
     },
     "execution_count": 34,
     "metadata": {},
     "output_type": "execute_result"
    }
   ],
   "source": [
    "# Addition, subtraction\n",
    "1+2+4-3"
   ]
  },
  {
   "cell_type": "code",
   "execution_count": 35,
   "metadata": {},
   "outputs": [
    {
     "name": "stdout",
     "output_type": "stream",
     "text": [
      "48\n",
      "0.5\n"
     ]
    }
   ],
   "source": [
    "# Multiplication, division\n",
    "a = 16*3\n",
    "print(a)\n",
    "\n",
    "b = 2/4\n",
    "print(b)"
   ]
  },
  {
   "cell_type": "code",
   "execution_count": 36,
   "metadata": {},
   "outputs": [
    {
     "data": {
      "text/plain": [
       "27"
      ]
     },
     "execution_count": 36,
     "metadata": {},
     "output_type": "execute_result"
    }
   ],
   "source": [
    "# nth power\n",
    "16**2\n",
    "\n",
    "16**4\n",
    "\n",
    "pow(3,3)"
   ]
  },
  {
   "cell_type": "code",
   "execution_count": 37,
   "metadata": {},
   "outputs": [
    {
     "data": {
      "text/plain": [
       "21.0"
      ]
     },
     "execution_count": 37,
     "metadata": {},
     "output_type": "execute_result"
    }
   ],
   "source": [
    "#Order of the operators\n",
    "\n",
    "2*2*3+2*4+2/2\n",
    "#or\n",
    "(2*2*3)+(2*4)+(2/2)"
   ]
  },
  {
   "cell_type": "code",
   "execution_count": 57,
   "metadata": {},
   "outputs": [
    {
     "name": "stdout",
     "output_type": "stream",
     "text": [
      "3\n",
      "(1, 2)\n",
      "(0, 1)\n",
      "(0, 6)\n",
      "200\n",
      "-4\n",
      "81\n",
      "8\n",
      "8\n",
      "9\n",
      "11\n"
     ]
    }
   ],
   "source": [
    "# Build in functions\n",
    "#abs()\tReturns absolute value of a number\n",
    "a = abs(-3)\n",
    "print(a)\n",
    "\n",
    "#divmod()\tReturns quotient and remainder of integer division\n",
    "b = divmod(5,3)\n",
    "print(b)\n",
    "c = divmod(1,2)\n",
    "print(c)\n",
    "c = divmod(6,9)\n",
    "print(c)\n",
    "\n",
    "#max()\tReturns the largest of the given arguments or items in an iterable\n",
    "d = max(200,1,2,3,4,5)\n",
    "print(d)\n",
    "\n",
    "#min()\tReturns the smallest of the given arguments or items in an iterable\n",
    "e = min(1,2,3,-4,5,6)\n",
    "print(e)\n",
    "\n",
    "#pow()\tRaises a number to a power\n",
    "f = pow(3,4)\n",
    "print(f)\n",
    "\n",
    "#round()\tRounds a floating-point value\n",
    "g = round(8.499)\n",
    "print(g)\n",
    "h = round(8.5)\n",
    "print(h)\n",
    "i = round(8.5000001)\n",
    "print(i)\n",
    "\n",
    "#sum()\tSums the items of an iterable (e.g. a list)\n",
    "j = sum([1,1,1,3,5])\n",
    "print(j)"
   ]
  },
  {
   "cell_type": "code",
   "execution_count": null,
   "metadata": {},
   "outputs": [],
   "source": []
  }
 ],
 "metadata": {
  "kernelspec": {
   "display_name": "Python [conda env:seminarpython]",
   "language": "python",
   "name": "conda-env-seminarpython-py"
  },
  "language_info": {
   "codemirror_mode": {
    "name": "ipython",
    "version": 3
   },
   "file_extension": ".py",
   "mimetype": "text/x-python",
   "name": "python",
   "nbconvert_exporter": "python",
   "pygments_lexer": "ipython3",
   "version": "3.7.0"
  }
 },
 "nbformat": 4,
 "nbformat_minor": 2
}
