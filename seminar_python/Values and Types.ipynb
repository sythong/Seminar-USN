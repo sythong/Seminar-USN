{
 "cells": [
  {
   "cell_type": "markdown",
   "metadata": {},
   "source": [
    "# Values and Types\n",
    "\n",
    "In this notebook we will see the most used values and types used in Python:\n"
   ]
  },
  {
   "cell_type": "code",
   "execution_count": 7,
   "metadata": {},
   "outputs": [
    {
     "data": {
      "text/plain": [
       "str"
      ]
     },
     "execution_count": 7,
     "metadata": {},
     "output_type": "execute_result"
    }
   ],
   "source": [
    "a = 2\n",
    "b = 4.2\n",
    "c = \"Hello USN\"\n",
    "type(a)\n",
    "type(b)\n",
    "type(c)"
   ]
  },
  {
   "cell_type": "code",
   "execution_count": 19,
   "metadata": {},
   "outputs": [
    {
     "name": "stdout",
     "output_type": "stream",
     "text": [
      "2\n",
      "11\n",
      "8\n",
      "521\n",
      "16\n",
      "4113\n"
     ]
    }
   ],
   "source": [
    "#0b => binary\n",
    "print(0b10) #(1*2^1)+(0*2^0)\n",
    "print(0b1011) #(1*2^3)+(0*2^2)+(1*2^1)+(1*2^0) == (1*2**3)+(0*2**2)+(1*2**1)+(1*2**0) = 8+0+2+1\n",
    "\n",
    "#0o => octal\n",
    "print(0o10) #(1*8^1)+(0*8^0) \n",
    "print(0o1011) #(1*8^3)+(0*8^2)+(1*8^1)+(1*8^0) == (1*8**3)+(0*8**2)+(1*8**1)+(1*8**0) = 512+0+8+1\n",
    "\n",
    "#0x => hexadecimal\n",
    "print(0x10) #(1*16^1)+(0*16^0) \n",
    "print(0x1011) #(1*16^3)+(0*16^2)+(1*16^1)+(1*16^0) == (1*16**3)+(0*16**2)+(1*16**1)+(1*16**0) = 4096+0+16+1\n"
   ]
  },
  {
   "cell_type": "code",
   "execution_count": 25,
   "metadata": {},
   "outputs": [
    {
     "name": "stdout",
     "output_type": "stream",
     "text": [
      "4000000.0\n",
      "0.00042\n"
     ]
    },
    {
     "data": {
      "text/plain": [
       "float"
      ]
     },
     "execution_count": 25,
     "metadata": {},
     "output_type": "execute_result"
    }
   ],
   "source": [
    "#scientific notation\n",
    "d = .4e7\n",
    "print(d)\n",
    "type(d)\n",
    "\n",
    "e = 4.2e-4\n",
    "print(e)\n",
    "type(e)"
   ]
  },
  {
   "cell_type": "code",
   "execution_count": 40,
   "metadata": {},
   "outputs": [
    {
     "name": "stdout",
     "output_type": "stream",
     "text": [
      "1.79e+308\n",
      "inf\n",
      "5e-324\n",
      "0.0\n"
     ]
    }
   ],
   "source": [
    "#Almost all platforms represent Python float values as 64-bit “double-precision” values, according to the IEEE 754 standard. In that case, the maximum value a floating-point number can have is approximately 1.8 ⨉ 10308. Python will indicate a number greater than that by the string inf\n",
    "print(1.79e308)\n",
    "print(1.8e308) # Maximum python number aprox.\n",
    "\n",
    "#The closest a nonzero number can be to zero is approximately 5.0 ⨉ 10-324. Anything closer to zero than that is effectively zero:\n",
    "print(5e-324)\n",
    "print(1e-325)"
   ]
  },
  {
   "cell_type": "code",
   "execution_count": 45,
   "metadata": {},
   "outputs": [
    {
     "data": {
      "text/plain": [
       "str"
      ]
     },
     "execution_count": 45,
     "metadata": {},
     "output_type": "execute_result"
    }
   ],
   "source": [
    "# Complex numbers\n",
    "f = 2+3j\n",
    "type(f)\n"
   ]
  },
  {
   "cell_type": "code",
   "execution_count": 46,
   "metadata": {},
   "outputs": [
    {
     "data": {
      "text/plain": [
       "str"
      ]
     },
     "execution_count": 46,
     "metadata": {},
     "output_type": "execute_result"
    }
   ],
   "source": [
    "# Python is a dynamically-typed\n",
    "f = 123\n",
    "type(f)\n",
    "f = '123'\n",
    "type(f)"
   ]
  },
  {
   "cell_type": "code",
   "execution_count": 55,
   "metadata": {},
   "outputs": [
    {
     "name": "stdout",
     "output_type": "stream",
     "text": [
      "This string contains a single quote (') character.\n",
      "This string contains a double quote (\") character.\n",
      "This string contains a double quote (\") character.\n",
      "This string contains a single quote (') character.\n",
      "This string has a single (') and a double (\") quote.\n",
      "abc\n",
      "hello\\USN\n",
      "hello\tUSN\n",
      "hello\n",
      "USN\n",
      "Hello\\nUSN\n",
      "Hello\\nUSN\n"
     ]
    }
   ],
   "source": [
    "# Strings\n",
    "print(\"This string contains a single quote (') character.\")\n",
    "print('This string contains a double quote (\") character.')\n",
    "\n",
    "# error\n",
    "#print(\"This string contains a double quote (\") character.\")\n",
    "#print('This string contains a single quote (') character.')\n",
    "\n",
    "print(\"This string contains a double quote (\\\") character.\")\n",
    "print('This string contains a single quote (\\') character.')\n",
    "\n",
    "print('''This string has a single (') and a double (\") quote.''')\n",
    "\n",
    "print('a\\\n",
    "b\\\n",
    "c')\n",
    "\n",
    "# slash\n",
    "print('hello\\\\USN')\n",
    "# tab\n",
    "print('hello\\tUSN') \n",
    "# new line\n",
    "print('hello\\nUSN')\n",
    "\n",
    "# Raw strings -> ignores escape sequences (sequences with \\)\n",
    "print(r'Hello\\nUSN') \n",
    "#or\n",
    "print(R'Hello\\nUSN') "
   ]
  },
  {
   "cell_type": "code",
   "execution_count": 57,
   "metadata": {},
   "outputs": [
    {
     "data": {
      "text/plain": [
       "bool"
      ]
     },
     "execution_count": 57,
     "metadata": {},
     "output_type": "execute_result"
    }
   ],
   "source": [
    "# Booleans\n",
    "type(True)\n",
    "type(False)"
   ]
  },
  {
   "cell_type": "code",
   "execution_count": 81,
   "metadata": {},
   "outputs": [
    {
     "data": {
      "text/plain": [
       "'2'"
      ]
     },
     "execution_count": 81,
     "metadata": {},
     "output_type": "execute_result"
    }
   ],
   "source": [
    "# Conversions\n",
    "#bool()\tConverts an argument to a Boolean value\n",
    "bool(1>2)\n",
    "bool(1<=2)\n",
    "bool(5==5)\n",
    "bool(6!=5)\n",
    "\n",
    "#complex()\tReturns a complex number constructed from arguments\n",
    "complex(3,8)\n",
    "\n",
    "#float()\tReturns a floating-point object constructed from a number or string\n",
    "float(4)\n",
    "\n",
    "#hex()\tConverts an integer to a hexadecimal string\n",
    "hex(16)\n",
    "\n",
    "#int()\tReturns an integer object constructed from a number or string\n",
    "int('521')\n",
    "\n",
    "#oct()\tConverts an integer to an octal string\n",
    "oct(8)\n",
    "\n",
    "#str()\tReturns a string version of an object\n",
    "str(5==5)\n",
    "str(2)"
   ]
  },
  {
   "cell_type": "code",
   "execution_count": null,
   "metadata": {},
   "outputs": [],
   "source": []
  }
 ],
 "metadata": {
  "kernelspec": {
   "display_name": "Python [conda env:seminarpython]",
   "language": "python",
   "name": "conda-env-seminarpython-py"
  },
  "language_info": {
   "codemirror_mode": {
    "name": "ipython",
    "version": 3
   },
   "file_extension": ".py",
   "mimetype": "text/x-python",
   "name": "python",
   "nbconvert_exporter": "python",
   "pygments_lexer": "ipython3",
   "version": "3.7.0"
  }
 },
 "nbformat": 4,
 "nbformat_minor": 2
}
